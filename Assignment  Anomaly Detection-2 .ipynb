{
 "cells": [
  {
   "cell_type": "markdown",
   "id": "8deff75d-bb43-465e-8ebe-eed802c3910f",
   "metadata": {},
   "source": [
    "## Q1. What is the role of feature selection in anomaly detection?"
   ]
  },
  {
   "cell_type": "markdown",
   "id": "5fb2b446-63e7-4140-8f6a-6463f62d4695",
   "metadata": {},
   "source": [
    "## Feature selection can play a number of important roles in anomaly detection:\n",
    "##  Improving detection performance.\n",
    "## Reducing computational complexity.\n",
    "## Improving interpretability.\n",
    "## Filter methods."
   ]
  },
  {
   "cell_type": "code",
   "execution_count": null,
   "id": "99d739dc-79a3-496d-99e4-6633679a16c8",
   "metadata": {},
   "outputs": [],
   "source": []
  },
  {
   "cell_type": "markdown",
   "id": "a809e5a8-429a-4779-b3e8-cb93b5f93141",
   "metadata": {},
   "source": [
    "## Q2. What are some common evaluation metrics for anomaly detection algorithms and how are they computed?"
   ]
  },
  {
   "cell_type": "markdown",
   "id": "e72b35b1-c8a1-48bc-9b88-54de6b686e0c",
   "metadata": {},
   "source": [
    "## Evaluation metrics for anomaly detection algorithms:\n",
    "## Precision.\n",
    "## Recall.\n",
    "## F1 score.\n",
    "## False positive rate (FPR).\n",
    "## False negative rate (FNR).\n",
    "\n",
    "## These metrics computed using the following steps:\n",
    "## Create a confusion matrix, which is a table that shows the number of true positives, true negatives, false positives, and false negatives.\n",
    "## Calculate the precision, recall, F1 score, FPR, and FNR using the formulas provided above."
   ]
  },
  {
   "cell_type": "code",
   "execution_count": null,
   "id": "cbdfec2e-bd93-489a-ab24-f6878029773a",
   "metadata": {},
   "outputs": [],
   "source": []
  },
  {
   "cell_type": "markdown",
   "id": "a69b0669-4512-4f7a-9e78-48a2b7074741",
   "metadata": {},
   "source": [
    "## Q3. What is DBSCAN and how does it work for clustering?"
   ]
  },
  {
   "cell_type": "markdown",
   "id": "cb96e9a6-e502-4a05-af44-0d1b422ef67f",
   "metadata": {},
   "source": [
    "##  Density-Based Spatial Clustering of Applications with Noise, is a density-based clustering algorithm that groups together data points based on their density and proximity to each other. It is a popular clustering algorithm because it is robust to outliers and does not require the number of clusters to be specified beforehand.\n",
    "\n",
    "## DBSCAN is a powerful clustering algorithm that can be used to cluster data of any shape or size. It is particularly useful for clustering data that contains noise or outliers.\n",
    "\n",
    "## Identifying clusters of customers based on their purchase history.\n",
    "## Identifying clusters of cells in a tissue sample.\n",
    "## Identifying clusters of galaxies in a cosmological simulation."
   ]
  },
  {
   "cell_type": "code",
   "execution_count": null,
   "id": "238ae64f-9a80-49e4-95a8-3f8b8079b571",
   "metadata": {},
   "outputs": [],
   "source": []
  },
  {
   "cell_type": "markdown",
   "id": "ea01dce6-16ed-444c-baee-207ccfe851cd",
   "metadata": {},
   "source": [
    "## Q4. How does the epsilon parameter affect the performance of DBSCAN in detecting anomalies?"
   ]
  },
  {
   "cell_type": "markdown",
   "id": "87edcea3-07f4-438f-b084-0184fd94675f",
   "metadata": {},
   "source": [
    "## The epsilon parameter in DBSCAN has a significant impact on its performance in detecting anomalies. A higher value of epsilon will result in larger clusters, which may make it more difficult to identify anomalies. A lower value of epsilon will result in smaller clusters, which may make it easier to identify anomalies, but may also lead to more false positives.\n",
    "\n",
    "## To choose a good value for epsilon, it is important to consider the nature of the data and the desired outcome. For example, if the data is noisy and the goal is to identify all possible anomalies, then a lower value of epsilon may be preferred. If the data is clean and the goal is to minimize false positives, then a higher value of epsilon may be preferred.\n",
    "\n",
    "## One common approach to choosing a good value for epsilon is to use a k-distance graph. A k-distance graph shows the distance between each point in the dataset and its kth nearest neighbor. A good value for epsilon is typically the point at which the slope of the k-distance graph changes significantly. This point is often referred to as the \"elbow\" of the graph."
   ]
  },
  {
   "cell_type": "code",
   "execution_count": null,
   "id": "06344420-7d9f-450d-aff5-a6bcbc456a3a",
   "metadata": {},
   "outputs": [],
   "source": []
  },
  {
   "cell_type": "markdown",
   "id": "777282f1-4ea1-44e4-9894-773e93ab649c",
   "metadata": {},
   "source": [
    "## Q5. What are the differences between the core, border, and noise points in DBSCAN, and how do they relate to anomaly detection?"
   ]
  },
  {
   "cell_type": "markdown",
   "id": "c15a3588-3609-431d-b248-e8f929c15b54",
   "metadata": {},
   "source": [
    "## Core point : A point that has at least minPoints points within eps.\n",
    "## Border point:\tA point that is within eps of a core point, but does not have enough points within eps of itself to be a core point.\n",
    "## Noise point:  A point that is not within eps of any core point.\n",
    "\n",
    "\n",
    "## Choose the appropriate values for the minPoints and eps parameters. The minPoints parameter should be set to a value that is high enough to exclude noise points, but not so high that it excludes legitimate data points. The eps parameter should be set to a value that is large enough to capture all of the core points, but not so large that it merges clusters together.\n",
    "\n",
    "## Use a validation dataset to evaluate the performance of the model. A validation dataset is a subset of the data that is not used to train the model. The validation dataset can be used to evaluate the performance of the model with different values of minPoints and eps and choose the values that result in the best performance."
   ]
  },
  {
   "cell_type": "code",
   "execution_count": null,
   "id": "e9ce4d34-00cc-4f6f-9b1e-bc900ec33f45",
   "metadata": {},
   "outputs": [],
   "source": []
  },
  {
   "cell_type": "markdown",
   "id": "c4afedfc-cc8e-481c-acb7-4d1d28133373",
   "metadata": {},
   "source": [
    "## Q6. How does DBSCAN detect anomalies and what are the key parameters involved in the process?"
   ]
  },
  {
   "cell_type": "markdown",
   "id": "e7039f36-8057-49da-9f9b-6e5d3690f6fb",
   "metadata": {},
   "source": [
    "## DBSCAN detects anomalies by identifying noise points. Noise points are points that are not within a certain radius (eps) of any core point. Core points are points that have at least a minimum number of points (minPts) within eps of themselves.\n",
    "\n",
    "## To detect anomalies, DBSCAN first identifies all of the core points in the data. Then, it recursively adds all of the border points that are within eps of a core point to the cluster. Border points are points that are within eps of a core point, but do not have enough points within eps of themselves to be core points. Any points that are not part of any cluster are classified as noise points.\n",
    "\n",
    "## The two key parameters involved in the anomaly detection process are minPts and eps. minPts controls how many points a point must have within eps to be considered a core point. eps controls the radius within which points are considered to be neighbors.\n",
    "\n",
    "## The optimal values for minPts and eps will vary depending on the specific data set. However, some general guidelines include:\n",
    "\n",
    "## Set minPts to a value that is high enough to exclude noise points, but not so high that it excludes legitimate data points.\n",
    "## Set eps to a value that is large enough to capture all of the core points, but not so large that it merges clusters together."
   ]
  },
  {
   "cell_type": "code",
   "execution_count": null,
   "id": "b6f46fa7-fc9b-4b79-a985-bd338ef4a795",
   "metadata": {},
   "outputs": [],
   "source": []
  },
  {
   "cell_type": "markdown",
   "id": "8aa23c0e-dd9f-4c4a-950f-f30b5703cc83",
   "metadata": {},
   "source": [
    "## Q7. What is the make_circles package in scikit-learn used for?"
   ]
  },
  {
   "cell_type": "code",
   "execution_count": 11,
   "id": "11737a0c-b765-418a-9900-335043c142e0",
   "metadata": {},
   "outputs": [],
   "source": [
    "from sklearn.cluster import DBSCAN\n",
    "from sklearn.datasets import make_moons\n",
    "import matplotlib.pyplot as plt\n",
    "%matplotlib inline\n",
    "from sklearn.datasets import make_circles"
   ]
  },
  {
   "cell_type": "code",
   "execution_count": 23,
   "id": "3ce017ec-cca2-44a9-ace2-eef1a3d73f15",
   "metadata": {},
   "outputs": [],
   "source": [
    "X, y = make_circles(n_samples=1000, factor=0.3, noise=0.1)"
   ]
  },
  {
   "cell_type": "code",
   "execution_count": 24,
   "id": "41e9f8a3-9cc1-42d9-be26-366f1953955d",
   "metadata": {},
   "outputs": [
    {
     "data": {
      "image/png": "[encoded data removed]",
      "text/plain": [
       "<Figure size 640x480 with 1 Axes>"
      ]
     },
     "metadata": {},
     "output_type": "display_data"
    }
   ],
   "source": [
    "plt.scatter(X[:,0],X[:,1])\n",
    "plt.xlabel(\"X\")\n",
    "plt.ylabel(\"Y\")\n",
    "plt.title(\"Circles\")\n",
    "plt.show()"
   ]
  },
  {
   "cell_type": "code",
   "execution_count": null,
   "id": "94397913-38c6-4fd2-b764-d7c58fff6c20",
   "metadata": {},
   "outputs": [],
   "source": []
  },
  {
   "cell_type": "markdown",
   "id": "81dfacc5-7a98-44d9-bbd8-70f14b754f26",
   "metadata": {},
   "source": [
    "## Q8. What are local outliers and global outliers, and how do they differ from each other?"
   ]
  },
  {
   "cell_type": "markdown",
   "id": "8a5e92c4-d80a-4a57-ae8e-d28ee2096f1e",
   "metadata": {},
   "source": [
    "## A local outlier is a measured sample point that has a value within the normal range for the entire dataset, but if you look at the surrounding points, it is unusually high or low.\n",
    "## A global outlier is a measured sample point that has a very high or a very low value relative to all the values in a dataset.\n",
    "\n",
    "## A local outlier in a customer purchase history dataset might be a customer who purchases a large number of items in a short period of time. This customer is an outlier relative to their usual purchase behavior, but they may not be an outlier relative to all customers.\n",
    "## A global outlier in a credit card transaction dataset might be a transaction that is much higher or lower than the usual transactions for that customer. This transaction is an outlier relative to both the customer's usual transaction history and all credit card transactions."
   ]
  },
  {
   "cell_type": "code",
   "execution_count": null,
   "id": "09d886de-28f0-40f5-a55a-21c6e8c06d26",
   "metadata": {},
   "outputs": [],
   "source": []
  },
  {
   "cell_type": "markdown",
   "id": "f6b28673-d3e9-49ef-ba34-651d43ff64e5",
   "metadata": {},
   "source": [
    "## Q10. How can global outliers be detected using the Isolation Forest algorithm?"
   ]
  },
  {
   "cell_type": "code",
   "execution_count": 6,
   "id": "941b6ebe-dc94-44a5-a505-a8109c095368",
   "metadata": {},
   "outputs": [],
   "source": [
    "import pandas as pd\n",
    "df=pd.read_csv('healthcare.csv')"
   ]
  },
  {
   "cell_type": "code",
   "execution_count": 7,
   "id": "5ddfefd1-c576-4d13-9a48-38b30a8296ef",
   "metadata": {},
   "outputs": [],
   "source": [
    "from sklearn.ensemble import IsolationForest"
   ]
  },
  {
   "cell_type": "code",
   "execution_count": 11,
   "id": "be2a2020-069b-4087-8ac9-dada204e1166",
   "metadata": {},
   "outputs": [
    {
     "name": "stdout",
     "output_type": "stream",
     "text": [
      "[  4  20  24  45  48  49  53  55  60  61  63  67  72  74  78  83  85  87\n",
      "  89  92  97 104 108 114 119 126 130 132 133 141 151 160 167 177 179 181\n",
      " 182 187 197 199 204 209 212 217 220 221 227 242 247 248]\n"
     ]
    },
    {
     "name": "stderr",
     "output_type": "stream",
     "text": [
      "/opt/conda/lib/python3.10/site-packages/sklearn/base.py:409: UserWarning: X does not have valid feature names, but IsolationForest was fitted with feature names\n",
      "  warnings.warn(\n"
     ]
    }
   ],
   "source": [
    "clf = IsolationForest(contamination=0.2)\n",
    "clf.fit(df)\n",
    "predictions = clf.predict(df)\n",
    "print(np.where(predictions == -1)[0])"
   ]
  },
  {
   "cell_type": "code",
   "execution_count": null,
   "id": "e986a43b-07c2-456e-b6f3-3724c8d06034",
   "metadata": {},
   "outputs": [],
   "source": []
  }
 ],
 "metadata": {
  "kernelspec": {
   "display_name": "Python 3 (ipykernel)",
   "language": "python",
   "name": "python3"
  },
  "language_info": {
   "codemirror_mode": {
    "name": "ipython",
    "version": 3
   },
   "file_extension": ".py",
   "mimetype": "text/x-python",
   "name": "python",
   "nbconvert_exporter": "python",
   "pygments_lexer": "ipython3",
   "version": "3.10.8"
  }
 },
 "nbformat": 4,
 "nbformat_minor": 5
}
